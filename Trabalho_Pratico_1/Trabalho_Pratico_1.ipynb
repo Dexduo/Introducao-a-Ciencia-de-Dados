{
  "nbformat": 4,
  "nbformat_minor": 0,
  "metadata": {
    "colab": {
      "provenance": [],
      "authorship_tag": "ABX9TyO9tyTxt2YMdUOlkjNU0iFL",
      "include_colab_link": true
    },
    "kernelspec": {
      "name": "python3",
      "display_name": "Python 3"
    },
    "language_info": {
      "name": "python"
    }
  },
  "cells": [
    {
      "cell_type": "markdown",
      "metadata": {
        "id": "view-in-github",
        "colab_type": "text"
      },
      "source": [
        "<a href=\"https://colab.research.google.com/github/Dexduo/Introducao-a-Ciencia-de-Dados/blob/main/Trabalho_Pratico_1/Trabalho_Pratico_1.ipynb\" target=\"_parent\"><img src=\"https://colab.research.google.com/assets/colab-badge.svg\" alt=\"Open In Colab\"/></a>"
      ]
    },
    {
      "cell_type": "markdown",
      "source": [
        "## **Classificação com Iris Dataset**"
      ],
      "metadata": {
        "id": "3e2MFmT5nhNq"
      }
    },
    {
      "cell_type": "code",
      "execution_count": 120,
      "metadata": {
        "id": "M8081Cp7m7es"
      },
      "outputs": [],
      "source": [
        "import numpy as np\n",
        "from sklearn import datasets\n",
        "from sklearn.model_selection import train_test_split\n",
        "from sklearn.model_selection import cross_val_score\n",
        "from sklearn.neighbors import KNeighborsClassifier\n",
        "from sklearn.metrics import accuracy_score\n",
        "from sklearn.metrics import precision_score\n",
        "from sklearn.svm import SVC\n",
        "from sklearn.linear_model import LinearRegression\n",
        "from sklearn.ensemble import RandomForestRegressor\n",
        "import pandas as pd\n",
        "import matplotlib.pyplot as plt\n",
        "from sklearn.metrics import mean_squared_error # erro quadratico médio para ser utilizado no calculo da precisão de regressão"
      ]
    },
    {
      "cell_type": "code",
      "source": [
        "iris = datasets.load_iris()\n",
        "for key in iris.keys():\n",
        "  print(key)"
      ],
      "metadata": {
        "colab": {
          "base_uri": "https://localhost:8080/"
        },
        "id": "GKL-qDo1w_T1",
        "outputId": "252020aa-503a-42ad-d84b-8f220df97552"
      },
      "execution_count": 87,
      "outputs": [
        {
          "output_type": "stream",
          "name": "stdout",
          "text": [
            "data\n",
            "target\n",
            "frame\n",
            "target_names\n",
            "DESCR\n",
            "feature_names\n",
            "filename\n",
            "data_module\n"
          ]
        }
      ]
    },
    {
      "cell_type": "code",
      "source": [
        "X = iris.data\n",
        "y = iris.target"
      ],
      "metadata": {
        "id": "6aAn5UGYt_M1"
      },
      "execution_count": null,
      "outputs": []
    },
    {
      "cell_type": "code",
      "source": [
        "X_train, X_test, y_train, y_test = train_test_split(X, y, test_size=0.33, random_state=42)"
      ],
      "metadata": {
        "id": "DXFGnpX9yKQ1"
      },
      "execution_count": null,
      "outputs": []
    },
    {
      "cell_type": "code",
      "source": [
        "iris['feature_names']"
      ],
      "metadata": {
        "colab": {
          "base_uri": "https://localhost:8080/"
        },
        "id": "oTqBt-Z10ZMe",
        "outputId": "bb3be8ac-9ca5-4c1c-9c03-a9587583b87b"
      },
      "execution_count": null,
      "outputs": [
        {
          "output_type": "execute_result",
          "data": {
            "text/plain": [
              "['sepal length (cm)',\n",
              " 'sepal width (cm)',\n",
              " 'petal length (cm)',\n",
              " 'petal width (cm)']"
            ]
          },
          "metadata": {},
          "execution_count": 4
        }
      ]
    },
    {
      "cell_type": "markdown",
      "source": [
        "**Usando KNN**"
      ],
      "metadata": {
        "id": "1Up4oGIv3U1w"
      }
    },
    {
      "cell_type": "code",
      "source": [
        "neighbors_knn = KNeighborsClassifier(n_neighbors=3)\n",
        "neighbors_knn.fit(X_train, y_train)\n",
        "neighbors_pred_knn = neighbors_knn.predict(X_test)\n",
        "print(accuracy_score(neighbors_pred_knn, y_test))"
      ],
      "metadata": {
        "colab": {
          "base_uri": "https://localhost:8080/"
        },
        "id": "1g8nypGF1MJ1",
        "outputId": "7b4a5e22-cbb4-4ba1-f3f3-e0c92eccb644"
      },
      "execution_count": null,
      "outputs": [
        {
          "output_type": "stream",
          "name": "stdout",
          "text": [
            "0.98\n"
          ]
        }
      ]
    },
    {
      "cell_type": "markdown",
      "source": [
        "**Usando SVC**"
      ],
      "metadata": {
        "id": "W2yTMqxd3hvf"
      }
    },
    {
      "cell_type": "code",
      "source": [
        "neighbors_svc = SVC()\n",
        "neighbors_svc.fit(X_train, y_train)\n",
        "neighbors_pred_svc = neighbors_svc.predict(X_test)\n",
        "print(accuracy_score(neighbors_pred_svc, y_test))"
      ],
      "metadata": {
        "colab": {
          "base_uri": "https://localhost:8080/"
        },
        "id": "sfMIWk9I3hW3",
        "outputId": "1182d4f9-d62a-439f-f4a5-961082f5f0af"
      },
      "execution_count": null,
      "outputs": [
        {
          "output_type": "stream",
          "name": "stdout",
          "text": [
            "1.0\n"
          ]
        }
      ]
    },
    {
      "cell_type": "code",
      "source": [
        "#Vamos ver agora com cross validation porém usando o StratifiedKFold para não ter o risco de separar treino e teste de forma desbalanceada ex.: de uma só classe"
      ],
      "metadata": {
        "id": "B0X6xIW59qrZ"
      },
      "execution_count": null,
      "outputs": []
    },
    {
      "cell_type": "markdown",
      "source": [
        "## **Regressão com Wine Quality Dataset**"
      ],
      "metadata": {
        "id": "2LCCPB91nguB"
      }
    },
    {
      "cell_type": "code",
      "source": [
        "pip install ucimlrepo"
      ],
      "metadata": {
        "id": "hrCkt96In_ez",
        "colab": {
          "base_uri": "https://localhost:8080/"
        },
        "outputId": "56b78b36-3efc-4406-c56d-bb897a0637d7"
      },
      "execution_count": null,
      "outputs": [
        {
          "output_type": "stream",
          "name": "stdout",
          "text": [
            "Requirement already satisfied: ucimlrepo in /usr/local/lib/python3.10/dist-packages (0.0.6)\n"
          ]
        }
      ]
    },
    {
      "cell_type": "code",
      "source": [
        "from ucimlrepo import fetch_ucirepo"
      ],
      "metadata": {
        "id": "jcT5VBClWxW3"
      },
      "execution_count": null,
      "outputs": []
    },
    {
      "cell_type": "code",
      "source": [
        "# fetch dataset\n",
        "wine_quality = fetch_ucirepo(id=186)"
      ],
      "metadata": {
        "id": "U32e5CDzW_MO"
      },
      "execution_count": null,
      "outputs": []
    },
    {
      "cell_type": "code",
      "source": [
        "wine_data = wine_quality.data\n",
        "#wine_data"
      ],
      "metadata": {
        "id": "OSXveZPGXhUj"
      },
      "execution_count": null,
      "outputs": []
    },
    {
      "cell_type": "code",
      "source": [
        "# data (as pandas dataframes)\n",
        "X_wine = wine_quality.data.features\n",
        "y_wine = wine_quality.data.targets"
      ],
      "metadata": {
        "id": "QtbK9-E2YAX7"
      },
      "execution_count": 123,
      "outputs": []
    },
    {
      "cell_type": "code",
      "source": [
        "#X"
      ],
      "metadata": {
        "id": "NNADzfCqYESr"
      },
      "execution_count": null,
      "outputs": []
    },
    {
      "cell_type": "code",
      "source": [
        "#y"
      ],
      "metadata": {
        "id": "4PwUkYcwYIN8"
      },
      "execution_count": null,
      "outputs": []
    },
    {
      "cell_type": "code",
      "source": [
        "# metadata\n",
        "#print(wine_quality.metadata)"
      ],
      "metadata": {
        "id": "GBD4AAjoYQCI"
      },
      "execution_count": null,
      "outputs": []
    },
    {
      "cell_type": "code",
      "source": [
        "# variable information\n",
        "#print(wine_quality.variables)"
      ],
      "metadata": {
        "id": "bpW8KxmLYWKG"
      },
      "execution_count": null,
      "outputs": []
    },
    {
      "cell_type": "code",
      "source": [
        "X_train_wine, X_test_wine, y_train_wine, y_test_wine = train_test_split(X_wine, y_wine, test_size=0.33, random_state=42)"
      ],
      "metadata": {
        "id": "-jYxhocIbQAA"
      },
      "execution_count": 124,
      "outputs": []
    },
    {
      "cell_type": "markdown",
      "source": [
        "**Treino com Regressão Linear**"
      ],
      "metadata": {
        "id": "nYk86p-_lsZO"
      }
    },
    {
      "cell_type": "code",
      "source": [
        "wine_linear_regression = LinearRegression().fit(X_train_wine, y_train_wine)"
      ],
      "metadata": {
        "id": "t5LXfg6uc2NE"
      },
      "execution_count": 125,
      "outputs": []
    },
    {
      "cell_type": "code",
      "source": [
        "pred_wine_linear_regression = wine_linear_regression.predict(X_test_wine).astype(int)"
      ],
      "metadata": {
        "id": "X3r2iLjEc__1"
      },
      "execution_count": 126,
      "outputs": []
    },
    {
      "cell_type": "code",
      "source": [
        "print(mean_squared_error(y_test_wine, pred_wine_linear_regression, squared=True)) # podemos setar se queremos quadratico ou não"
      ],
      "metadata": {
        "colab": {
          "base_uri": "https://localhost:8080/"
        },
        "id": "cNdeyM4CdZiC",
        "outputId": "d0401c42-afd8-42aa-d560-71a6fddc5e66"
      },
      "execution_count": 128,
      "outputs": [
        {
          "output_type": "stream",
          "name": "stdout",
          "text": [
            "0.8396270396270397\n"
          ]
        }
      ]
    },
    {
      "cell_type": "markdown",
      "source": [
        "Imagino que o modelo de Regressão Linear não soube lidar bem com múltiplas classes, poderíamos talvez utilizar técnica de one hot encoding para modificar os valores das classes."
      ],
      "metadata": {
        "id": "pYUXosfMouc-"
      }
    },
    {
      "cell_type": "markdown",
      "source": [
        "**Treino com Random Forest Regression**"
      ],
      "metadata": {
        "id": "27UHRHFjqDZr"
      }
    },
    {
      "cell_type": "code",
      "source": [
        "wine_rf_regression = RandomForestRegressor(max_depth=2, random_state=0).fit(X_train_wine, np.array(y_train['quality']))\n",
        "#usei np array no y_train pegando a coluna quality pois o modelo requer apenas 1 dimensão"
      ],
      "metadata": {
        "id": "9Ljkjmv6rMow"
      },
      "execution_count": 77,
      "outputs": []
    },
    {
      "cell_type": "code",
      "source": [
        "pred_wine_rf_regression = wine_rf_regression.predict(X_test_wine).astype(int)"
      ],
      "metadata": {
        "id": "GsGgW675rv3Y"
      },
      "execution_count": 129,
      "outputs": []
    },
    {
      "cell_type": "code",
      "source": [
        "print(mean_squared_error(y_test_wine, pred_wine_rf_regression, squared=True))"
      ],
      "metadata": {
        "colab": {
          "base_uri": "https://localhost:8080/"
        },
        "id": "eh1Wzd3asTjq",
        "outputId": "e2637017-212a-43a4-f04f-6bc84f923ce1"
      },
      "execution_count": 130,
      "outputs": [
        {
          "output_type": "stream",
          "name": "stdout",
          "text": [
            "0.875990675990676\n"
          ]
        }
      ]
    },
    {
      "cell_type": "markdown",
      "source": [
        "## **Classificação com Digits Dataset**"
      ],
      "metadata": {
        "id": "QHxDIeBAn4XK"
      }
    },
    {
      "cell_type": "code",
      "source": [
        "digits = datasets.load_digits()\n",
        "for key in digits.keys():\n",
        "  print(key)"
      ],
      "metadata": {
        "id": "We_Wjj5yoAms",
        "colab": {
          "base_uri": "https://localhost:8080/"
        },
        "outputId": "c6f318bc-6c30-4fdb-98ae-fcb4f2063e94"
      },
      "execution_count": 88,
      "outputs": [
        {
          "output_type": "stream",
          "name": "stdout",
          "text": [
            "data\n",
            "target\n",
            "frame\n",
            "feature_names\n",
            "target_names\n",
            "images\n",
            "DESCR\n"
          ]
        }
      ]
    },
    {
      "cell_type": "code",
      "source": [
        "X = digits.data"
      ],
      "metadata": {
        "id": "n8YNdtd8wq2u"
      },
      "execution_count": 89,
      "outputs": []
    },
    {
      "cell_type": "code",
      "source": [
        "y = digits.target"
      ],
      "metadata": {
        "id": "sBkgeQrXwtBm"
      },
      "execution_count": 90,
      "outputs": []
    },
    {
      "cell_type": "code",
      "source": [
        "X"
      ],
      "metadata": {
        "colab": {
          "base_uri": "https://localhost:8080/"
        },
        "id": "oV36Fp0Xwx_g",
        "outputId": "7576f379-d068-4844-9682-53d698e09448"
      },
      "execution_count": 102,
      "outputs": [
        {
          "output_type": "execute_result",
          "data": {
            "text/plain": [
              "array([[ 0.,  0.,  5., ...,  0.,  0.,  0.],\n",
              "       [ 0.,  0.,  0., ..., 10.,  0.,  0.],\n",
              "       [ 0.,  0.,  0., ..., 16.,  9.,  0.],\n",
              "       ...,\n",
              "       [ 0.,  0.,  1., ...,  6.,  0.,  0.],\n",
              "       [ 0.,  0.,  2., ..., 12.,  0.,  0.],\n",
              "       [ 0.,  0., 10., ..., 12.,  1.,  0.]])"
            ]
          },
          "metadata": {},
          "execution_count": 102
        }
      ]
    },
    {
      "cell_type": "code",
      "source": [
        "y"
      ],
      "metadata": {
        "colab": {
          "base_uri": "https://localhost:8080/"
        },
        "id": "rr453n_kxNCn",
        "outputId": "7a992d1c-7e6b-412b-825b-d08b2ce1db6d"
      },
      "execution_count": 103,
      "outputs": [
        {
          "output_type": "execute_result",
          "data": {
            "text/plain": [
              "array([0, 1, 2, ..., 8, 9, 8])"
            ]
          },
          "metadata": {},
          "execution_count": 103
        }
      ]
    },
    {
      "cell_type": "code",
      "source": [
        "plt.imshow(digits.images[0], cmap='gray')"
      ],
      "metadata": {
        "colab": {
          "base_uri": "https://localhost:8080/",
          "height": 448
        },
        "id": "Gonpr8IYxmPk",
        "outputId": "ef6a9600-451c-4402-8d1d-9258cbc6ea00"
      },
      "execution_count": 109,
      "outputs": [
        {
          "output_type": "execute_result",
          "data": {
            "text/plain": [
              "<matplotlib.image.AxesImage at 0x7d2420badf90>"
            ]
          },
          "metadata": {},
          "execution_count": 109
        },
        {
          "output_type": "display_data",
          "data": {
            "text/plain": [
              "<Figure size 640x480 with 1 Axes>"
            ],
            "image/png": "[encoded data removed]"
          },
          "metadata": {}
        }
      ]
    },
    {
      "cell_type": "code",
      "source": [
        "X_train, X_test, y_train, y_test = train_test_split(X, y, test_size=0.33, random_state=42)"
      ],
      "metadata": {
        "id": "kAtbljEL0NAF"
      },
      "execution_count": 113,
      "outputs": []
    },
    {
      "cell_type": "markdown",
      "source": [
        "**Usando KNN**"
      ],
      "metadata": {
        "id": "wJ2k7uqI0dKk"
      }
    },
    {
      "cell_type": "code",
      "source": [
        "neighbors_knn = KNeighborsClassifier(n_neighbors=10) #n_neighbors são 10 pois são 10 digitos: de 0 a 9\n",
        "neighbors_knn.fit(X_train, y_train)\n",
        "neighbors_pred_knn = neighbors_knn.predict(X_test)\n",
        "print(accuracy_score(neighbors_pred_knn, y_test))"
      ],
      "metadata": {
        "colab": {
          "base_uri": "https://localhost:8080/"
        },
        "id": "9bILes7l0ZK4",
        "outputId": "f7c02687-31cf-4ed3-da1d-c06769e53ed4"
      },
      "execution_count": 114,
      "outputs": [
        {
          "output_type": "stream",
          "name": "stdout",
          "text": [
            "0.9831649831649831\n"
          ]
        }
      ]
    },
    {
      "cell_type": "markdown",
      "source": [
        "**Usando SVC**"
      ],
      "metadata": {
        "id": "LiU1x3t70zHI"
      }
    },
    {
      "cell_type": "code",
      "source": [
        "neighbors_svc = SVC()\n",
        "neighbors_svc.fit(X_train, y_train)\n",
        "neighbors_pred_svc = neighbors_svc.predict(X_test)\n",
        "print(accuracy_score(neighbors_pred_svc, y_test))"
      ],
      "metadata": {
        "colab": {
          "base_uri": "https://localhost:8080/"
        },
        "id": "ai2ZY_JX0xqN",
        "outputId": "59a1dfd9-17a6-4d13-83a2-ee39587312a3"
      },
      "execution_count": 115,
      "outputs": [
        {
          "output_type": "stream",
          "name": "stdout",
          "text": [
            "0.9865319865319865\n"
          ]
        }
      ]
    }
  ]
}