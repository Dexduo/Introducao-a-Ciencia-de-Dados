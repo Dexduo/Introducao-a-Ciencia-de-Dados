{
  "nbformat": 4,
  "nbformat_minor": 0,
  "metadata": {
    "colab": {
      "provenance": [],
      "authorship_tag": "ABX9TyNktuBPdjv5KJq2suQK4SA+",
      "include_colab_link": true
    },
    "kernelspec": {
      "name": "python3",
      "display_name": "Python 3"
    },
    "language_info": {
      "name": "python"
    }
  },
  "cells": [
    {
      "cell_type": "markdown",
      "metadata": {
        "id": "view-in-github",
        "colab_type": "text"
      },
      "source": [
        "<a href=\"https://colab.research.google.com/github/Dexduo/Introducao-a-Ciencia-de-Dados/blob/main/Trabalho_Pratico_1/Trabalho_Pratico_1.ipynb\" target=\"_parent\"><img src=\"https://colab.research.google.com/assets/colab-badge.svg\" alt=\"Open In Colab\"/></a>"
      ]
    },
    {
      "cell_type": "markdown",
      "source": [
        "## **Classificação com Iris Dataset**"
      ],
      "metadata": {
        "id": "3e2MFmT5nhNq"
      }
    },
    {
      "cell_type": "code",
      "execution_count": null,
      "metadata": {
        "colab": {
          "base_uri": "https://localhost:8080/"
        },
        "id": "M8081Cp7m7es",
        "outputId": "9bb9359e-e765-473f-822f-d9fb52c6f7e4"
      },
      "outputs": [
        {
          "output_type": "stream",
          "name": "stdout",
          "text": [
            "data\n",
            "target\n",
            "frame\n",
            "target_names\n",
            "DESCR\n",
            "feature_names\n",
            "filename\n",
            "data_module\n"
          ]
        }
      ],
      "source": [
        "from sklearn import datasets\n",
        "from sklearn.model_selection import train_test_split\n",
        "from sklearn.model_selection import cross_val_score\n",
        "from sklearn.neighbors import KNeighborsClassifier\n",
        "from sklearn.metrics import accuracy_score\n",
        "from sklearn.svm import SVC\n",
        "\n",
        "iris = datasets.load_iris()\n",
        "for key in iris.keys():\n",
        "  print(key)"
      ]
    },
    {
      "cell_type": "code",
      "source": [
        "X = iris.data\n",
        "y = iris.target"
      ],
      "metadata": {
        "colab": {
          "base_uri": "https://localhost:8080/"
        },
        "id": "6aAn5UGYt_M1",
        "outputId": "98f2e8a7-e616-4609-bfef-adf832bd3a59"
      },
      "execution_count": null,
      "outputs": [
        {
          "output_type": "execute_result",
          "data": {
            "text/plain": [
              "150"
            ]
          },
          "metadata": {},
          "execution_count": 20
        }
      ]
    },
    {
      "cell_type": "code",
      "source": [
        "X_train, X_test, y_train, y_test = train_test_split(X, y, test_size=0.33, random_state=42)"
      ],
      "metadata": {
        "id": "DXFGnpX9yKQ1"
      },
      "execution_count": null,
      "outputs": []
    },
    {
      "cell_type": "code",
      "source": [
        "iris['feature_names']"
      ],
      "metadata": {
        "colab": {
          "base_uri": "https://localhost:8080/"
        },
        "id": "oTqBt-Z10ZMe",
        "outputId": "d653d4d6-6e36-49e2-b074-06fa2f8258b5"
      },
      "execution_count": null,
      "outputs": [
        {
          "output_type": "execute_result",
          "data": {
            "text/plain": [
              "['sepal length (cm)',\n",
              " 'sepal width (cm)',\n",
              " 'petal length (cm)',\n",
              " 'petal width (cm)']"
            ]
          },
          "metadata": {},
          "execution_count": 17
        }
      ]
    },
    {
      "cell_type": "markdown",
      "source": [
        "**Usando KNN**"
      ],
      "metadata": {
        "id": "1Up4oGIv3U1w"
      }
    },
    {
      "cell_type": "code",
      "source": [
        "neighbors_knn = KNeighborsClassifier(n_neighbors=3)\n",
        "neighbors_knn.fit(X_train, y_train)\n",
        "neighbors_pred_knn = neighbors_knn.predict(X_test)\n",
        "print(accuracy_score(neighbors_pred_knn, y_test))"
      ],
      "metadata": {
        "colab": {
          "base_uri": "https://localhost:8080/"
        },
        "id": "1g8nypGF1MJ1",
        "outputId": "c34ad27d-c552-444d-d356-fb3123650e18"
      },
      "execution_count": null,
      "outputs": [
        {
          "output_type": "stream",
          "name": "stdout",
          "text": [
            "0.98\n"
          ]
        }
      ]
    },
    {
      "cell_type": "markdown",
      "source": [
        "**Usando SVC**"
      ],
      "metadata": {
        "id": "W2yTMqxd3hvf"
      }
    },
    {
      "cell_type": "code",
      "source": [
        "neighbors_svc = SVC()\n",
        "neighbors_svc.fit(X_train, y_train)\n",
        "neighbors_pred_svc = neighbors_svc.predict(X_test)\n",
        "print(accuracy_score(neighbors_pred_svc, y_test))"
      ],
      "metadata": {
        "colab": {
          "base_uri": "https://localhost:8080/"
        },
        "id": "sfMIWk9I3hW3",
        "outputId": "74be49ab-c574-4580-f9eb-5b2b5505ab28"
      },
      "execution_count": null,
      "outputs": [
        {
          "output_type": "stream",
          "name": "stdout",
          "text": [
            "1.0\n"
          ]
        }
      ]
    },
    {
      "cell_type": "code",
      "source": [
        "#Vamos ver agora com cross validation porém usando o StratifiedKFold para não ter o risco de separar treino e teste de forma desbalanceada ex.: de uma só classe"
      ],
      "metadata": {
        "id": "B0X6xIW59qrZ"
      },
      "execution_count": null,
      "outputs": []
    },
    {
      "cell_type": "markdown",
      "source": [
        "## **Regressão com Wine Quality Dataset**"
      ],
      "metadata": {
        "id": "2LCCPB91nguB"
      }
    },
    {
      "cell_type": "code",
      "source": [],
      "metadata": {
        "id": "hrCkt96In_ez"
      },
      "execution_count": null,
      "outputs": []
    },
    {
      "cell_type": "markdown",
      "source": [
        "## **Classificação com Digits Dataset**"
      ],
      "metadata": {
        "id": "QHxDIeBAn4XK"
      }
    },
    {
      "cell_type": "code",
      "source": [],
      "metadata": {
        "id": "We_Wjj5yoAms"
      },
      "execution_count": null,
      "outputs": []
    }
  ]
}